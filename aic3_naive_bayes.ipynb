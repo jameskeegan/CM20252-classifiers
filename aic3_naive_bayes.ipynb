{
 "cells": [
  {
   "cell_type": "markdown",
   "metadata": {},
   "source": [
    "# Part 1: Spam or ham? (45 marks)\n",
    "\n",
    "In the spam literature, an email that is **not** spam is called _ham_. \n",
    "\n",
    "Your task is to develop a Naive Bayes classifier to determine whether a given email is spam or ham."
   ]
  },
  {
   "cell_type": "markdown",
   "metadata": {},
   "source": [
    "## The data: Spam!\n",
    "\n",
    "The following cell loads your training data set (called _training set_)."
   ]
  },
  {
   "cell_type": "code",
   "execution_count": 1,
   "metadata": {},
   "outputs": [
    {
     "name": "stdout",
     "output_type": "stream",
     "text": [
      "Shape of the spam training data set: (1000, 55)\n",
      "[[1. 0. 0. ... 0. 0. 0.]\n",
      " [0. 0. 1. ... 1. 0. 0.]\n",
      " [0. 0. 0. ... 1. 0. 0.]\n",
      " ...\n",
      " [0. 0. 0. ... 0. 0. 1.]\n",
      " [1. 1. 1. ... 1. 1. 0.]\n",
      " [1. 0. 0. ... 1. 1. 1.]]\n"
     ]
    }
   ],
   "source": [
    "import numpy as np\n",
    "\n",
    "training_spam = np.loadtxt(open(\"data/training_spam.csv\"), delimiter=\",\")\n",
    "print(\"Shape of the spam training data set:\", training_spam.shape)\n",
    "print(training_spam)"
   ]
  },
  {
   "cell_type": "markdown",
   "metadata": {},
   "source": [
    "Your training set consists of 1000 rows and 55 columns. Each row corresponds to one email message. The first column is the _response_ variable and describes whether a message is spam (1) or ham (0). The remaining 54 columns are _features_ that you will use to build a classifier. These features correspond to 54 different keywords (such as \"money\", \"free\", and \"receive\") and special characters (such as \":\", \"!\", and \"$\"). A feature has the value \"1\" if the keyword appears in the message and \"0\" otherwise."
   ]
  },
  {
   "cell_type": "markdown",
   "metadata": {},
   "source": [
    "## The model:  Naïve Bayes\n",
    "Your [naïve Bayes](https://en.wikipedia.org/wiki/Naive_Bayes_classifier) classifier will distinguish between two classes:\n",
    "\n",
    "* **$C = 1$ for spam messages **\n",
    "* **$C = 0$ for ham messages. **\n",
    "\n",
    "\n",
    "The classifier builds a model for the probability $P(C=c\\ |\\ message)$ that a given message belongs to a certain class. A new message is then classified based on the Bayesian *maximum a posteriori* estimate\n",
    "\n",
    "\\begin{equation}\n",
    "\\hat{c} = \\underset{c \\in \\{0,1\\}}{argmax} \\  P(C=c\\ |\\ message).\n",
    "\\end{equation}\n",
    "\n",
    "Using Bayes' rule we can write\n",
    "\n",
    "\\begin{equation}\n",
    "P(C=c\\ |\\ message) = \\frac{P(message\\ |\\ C=c)P(C=c)}{P(message\\ |\\ C=1)P(C=1) + P(message\\ |\\ C=0)P(C=0)}.  \\quad \\quad \n",
    "\\end{equation}\n",
    "\n",
    "The denominator is the same for both classes and we can thus drop it to get\n",
    "\n",
    "\\begin{equation}\n",
    "P(C=c\\ |\\ message) \\propto P(message\\ |\\ C=c)P(C=c).\n",
    "\\end{equation}\n",
    "\n",
    "\n",
    "We represent a message using a binary [bag-of-words](https://en.wikipedia.org/wiki/Bag-of-words_model) model. Specifically, a message is represented as $\\mathbf{w} = (w_1, ..., w_k)$, where $w_i = 1$ if the word $w_i$ appears in the message and $w_i = 0$ otherwise. We assume **class-conditional independence between occurences of known words** and can therefore write \n",
    "\n",
    "\\begin{equation}\n",
    "P(message\\ |\\ C=c) = \\prod_{i = 1}^k P(w_i\\ |\\ C=c).\n",
    "\\end{equation}\n",
    "\n",
    "The classifier now can be written as follows :\n",
    "\n",
    "\\begin{equation}\n",
    "\\hat{c} = \\underset{c \\in \\{0,1\\}}{argmax} \\ [ P(C=c)   \\prod_{i = 1}^k P(w_i\\ |\\ C=c) ].\n",
    "\\end{equation}\n",
    "\n",
    "\n",
    "### Multinomial Naïve Bayes\n",
    "\n",
    "Different naïve Bayes models differ in their distributional assumptions of $P(w\\ |\\ C=c)$, that is, the conditional likelihood of a word $w$ given a class $c$. We will model $P(w\\ |\\ C=c)$ using a [multinomial distribution](https://en.wikipedia.org/wiki/Multinomial_distribution). Intuitively, the multinomial distribution assumes that the words of a message are \"drawn\" independently from a bag of $k$ different keywords. Depending on the class membership $c$, each keyword has a probability $\\theta_{class, word}$ of being drawn. For example,\n",
    "\n",
    "* $\\theta_{spam, w}$ will have high value for $w \\in \\{$bank, transfer, buy, viagra... $\\}$.\n",
    "* $\\theta_{ham, w}$ will have high value for $w \\in \\{$paper, conference, proposal, experiment... $\\}$, if the training data was mostly gathered from emails of researchers.\n",
    "\n",
    "Both the class priors $P(C=c)$ and the class-conditional likelihoods $\\theta_{c, w} = P(w\\ |\\ C=c)$ have to be estimated from the training data. The parameters $\\theta_{c, w}$ are estimated by counting the relative frequencies in the training data. Use **Laplace-smoothing** with $\\alpha = 1$, that is,\n",
    "\n",
    "\\begin{equation}\n",
    "\\theta_{c, w} = \\frac{n_{c, w} + \\alpha}{n_{c} + k \\alpha},\n",
    "\\end{equation}\n",
    "\n",
    "where $n_{c, w}$ is the number of times the word $w$ appears in messages of class $c$ in the training set, $n_{c}$ is the total count of words for all messages of class $c$, and $k$ is the number of features (key-words).\n",
    "\n",
    "The likelihood of observing $\\mathbf{w}$ in a message of class $c$ is proportional to\n",
    "\\begin{equation}\n",
    "P(\\mathbf{w}\\ |\\ C=c) \\propto \\prod_{i = 1}^k  (\\theta_{c, i})^{w_i}.\n",
    "\\end{equation}\n",
    "\n",
    "### Increasing numerical stability\n",
    "We can increase the numerical stability of the algorithm by taking logarithms of the posterior distributions, that is,\n",
    "\\begin{equation}\n",
    "\\hat{c} = \\underset{c \\in \\{0,1\\}}{argmax} \\ log( P(C=c)   \\prod_{i = 1}^k P(w_i\\ |\\ C=c) ) \\\\\n",
    " = \\underset{c \\in \\{0,1\\}}{argmax} \\ [ log( P(C=c)) + \\sum_{i = 1}^k w_i \\ log(\\theta_{c, i}) ].\n",
    "\\end{equation}\n",
    "\n",
    "You will implement this more stable version of the algorithm in developing your classifier. "
   ]
  },
  {
   "cell_type": "markdown",
   "metadata": {},
   "source": [
    "## Part 1A: Estimate class priors (10 marks)\n",
    "\n",
    "Define a function called `estimate_log_class_priors()` that takes as input a data set with binary response variable (0s and 1s) in the left-most column and returns a numpy array containing the **the logarithm** of the empirical class priors $P(C=c)$ for $c \\in \\{0, 1\\}$."
   ]
  },
  {
   "cell_type": "code",
   "execution_count": 29,
   "metadata": {
    "deletable": false,
    "nbgrader": {
     "checksum": "508e5de25816a015e44a26b186d9ec48",
     "grade": false,
     "grade_id": "cell-f2d751b4a9e29087",
     "locked": false,
     "schema_version": 1,
     "solution": true
    }
   },
   "outputs": [],
   "source": [
    "def estimate_log_class_priors(data):\n",
    "    \"\"\"\n",
    "    Given a data set with binary response variable (0s and 1s) in the\n",
    "    left-most column, calculate the logarithm of the empirical class priors,\n",
    "    that is, the logarithm of the proportions of 0s and 1s:\n",
    "    log(P(C=0)) and log(P(C=1))\n",
    "\n",
    "    :param data: a two-dimensional numpy-array with shape = [n_samples, 1 + n_features]\n",
    "                 the first column contains the binary response (coded as 0s and 1s).\n",
    "\n",
    "    :return log_class_priors: a numpy array of length two\n",
    "    \"\"\"\n",
    "    ### YOUR CODE HERE...\n",
    "    \n",
    "    leftmost = data[:,0]\n",
    "        \n",
    "    zeroes = 0\n",
    "    for i in leftmost:\n",
    "        if i == 0: zeroes += 1\n",
    "            \n",
    "    ones = len(leftmost) - zeroes\n",
    "    \n",
    "    priors = np.array([np.log(zeroes/len(leftmost)), np.log(ones/len(leftmost))])\n",
    "    \n",
    "    print(np.exp(priors))\n",
    "        \n",
    "    return priors"
   ]
  },
  {
   "cell_type": "code",
   "execution_count": 30,
   "metadata": {
    "deletable": false,
    "editable": false,
    "nbgrader": {
     "checksum": "94068b6b48e3efb516a1e04893b681c4",
     "grade": true,
     "grade_id": "cell-15a7409a814b361a",
     "locked": true,
     "points": 10,
     "schema_version": 1,
     "solution": false
    }
   },
   "outputs": [
    {
     "name": "stdout",
     "output_type": "stream",
     "text": [
      "[0.387 0.613]\n",
      "result [-0.94933059 -0.48939034]\n"
     ]
    }
   ],
   "source": [
    "# This is a test cell. Do not delete or change. \n",
    "# You can use this cell to check whether the returned objects of your function are of the right data type.\n",
    "log_class_priors = estimate_log_class_priors(training_spam)\n",
    "print(\"result\", log_class_priors)\n",
    "\n",
    "# Check length\n",
    "assert(len(log_class_priors) == 2)\n",
    "\n",
    "# Check whether the returned object is a numpy.ndarray\n",
    "assert(isinstance(log_class_priors, np.ndarray))\n",
    "\n",
    "# Check wehther the values of this numpy.array are floats.\n",
    "assert(log_class_priors.dtype == float)\n"
   ]
  },
  {
   "cell_type": "markdown",
   "metadata": {},
   "source": [
    "## Part 1B: Estimate class-conditional likelihoods (10 marks)\n",
    "Define a function called `estimate_log_class_conditional_likelihoods()` that takes as input a data set with binary response variable (0s and 1s) in the left-most column and returns **the logarithm** of the empirical class-conditional likelihoods $log(P(w_i | c_j))$ for all words $w_i$ and both classes ($j \\in {0, 1}$). These parameters should be returned in a two-dimensional numpy-array with shape = `[num_classes, num_features]`.\n",
    "\n",
    "Assume a multinomial feature distribution and use Laplace smoothing with $\\alpha = 1$. \n",
    "\n",
    "Hint: many `numpy`-functions contain an `axis` argument. If you specify `axis=0`, you can perform column-wise (that is, feature-wise!) computations."
   ]
  },
  {
   "cell_type": "code",
   "execution_count": 65,
   "metadata": {
    "deletable": false,
    "nbgrader": {
     "checksum": "cb5d42f2293bb3929365b535540241a6",
     "grade": false,
     "grade_id": "cell-717db5f875274543",
     "locked": false,
     "schema_version": 1,
     "solution": true
    }
   },
   "outputs": [],
   "source": [
    "#### not done u idiot\n",
    "\n",
    "def get_word_count(data):\n",
    "    \n",
    "    # column determining if c = 0 or 1\n",
    "    leftmost = data[:,0]\n",
    "    \n",
    "    data = data[:, 1:]\n",
    "    \n",
    "    spam_words = 0\n",
    "    ham_words = 0\n",
    "    \n",
    "    \n",
    "    # add up total word count for all messages of each class\n",
    "    for i in range(0,data.shape[0]):\n",
    "        if leftmost[i] == 1:\n",
    "            spam_words += np.count_nonzero(data[i,:] == 1)\n",
    "        else:\n",
    "            ham_words += np.count_nonzero(data[i,:] == 1)    \n",
    "            \n",
    "            \n",
    "            \n",
    "    return [spam_words,ham_words]\n",
    "\n",
    "def get_ones(d):\n",
    "    ones = 0\n",
    "    for i in d: \n",
    "        if i == 1: ones += 1\n",
    "    \n",
    "    return ones\n",
    "\n",
    "def estimate_log_class_conditional_likelihoods(data, alpha=1.0):\n",
    "    \"\"\"\n",
    "    Given a data set with binary response variable (0s and 1s) in the\n",
    "    left-most column and binary features, calculate the empirical\n",
    "    class-conditional likelihoods, that is,\n",
    "    log(P(w_i | c_j)) for all features i and both classes (j in {0, 1}).\n",
    "\n",
    "    Assume a multinomial feature distribution and use Laplace smoothing\n",
    "    if alpha > 0.\n",
    "\n",
    "    :param data: a two-dimensional numpy-array with shape = [n_samples, n_features]\n",
    "\n",
    "    :return theta:\n",
    "        a numpy array of shape = [2, n_features]. theta[j, i] corresponds to the\n",
    "        logarithm of the probability of feature i appearing in a sample belonging \n",
    "        to class j.\n",
    "    \"\"\"\n",
    "    \n",
    "    # defines theta\n",
    "    theta = np.zeros([2,data.shape[1] - 1])\n",
    "    \n",
    "    # gets total number of words for e\n",
    "    [spam_words, ham_words] = get_word_count(data)\n",
    "    print(\"spam_words =\", spam_words)\n",
    "    print(\"ham_words =\",ham_words)\n",
    "    \n",
    "    log_class_priors = estimate_log_class_priors(training_spam)\n",
    "    log_class_priors[0] = np.exp(log_class_priors[0])\n",
    "    log_class_priors[1] = np.exp(log_class_priors[1])\n",
    "    \n",
    "    leftmost = data[:,0]\n",
    "    \n",
    "    features = data.shape[1] - 1\n",
    "    \n",
    "    # 0 = rows, 1 = columns (rows, columns)\n",
    "    print(\"data.shape[1] =\", data.shape[1])\n",
    "    \n",
    "    # for every column (bar the first one) ...\n",
    "    for j in range(1, data.shape[1]):\n",
    "        spam_ncw = 0\n",
    "        ham_ncw = 0\n",
    "        \n",
    "        # for every row in the column...\n",
    "        for i in range(1, data.shape[0]):\n",
    "            #... if word does appear, then find if it was spam/ham, then add to right accumulator\n",
    "            if data[i,j] == 1:\n",
    "                if leftmost[i] == 1:\n",
    "                    spam_ncw += 1\n",
    "                else:\n",
    "                    ham_ncw += 1   \n",
    "        \n",
    "        print(\"spam_ncw =\",spam_ncw)\n",
    "        print(\"ham_ncw =\",ham_ncw)\n",
    "                            \n",
    "        \n",
    "        # log(p(w | spam)) = log(p(w,spam)/p(spam))\n",
    "        prob_spam = np.log((spam_ncw + alpha)/(spam_words + alpha * features))\n",
    "        prob_ham = np.log((ham_ncw + alpha)/(ham_words + alpha*features))\n",
    "        \n",
    "        theta[0,j-1] = prob_ham\n",
    "        theta[1,j-1] = prob_spam\n",
    "        \n",
    "    print(theta)\n",
    "    return theta\n"
   ]
  },
  {
   "cell_type": "code",
   "execution_count": 66,
   "metadata": {
    "deletable": false,
    "editable": false,
    "nbgrader": {
     "checksum": "f339a9efd8aae50fb2dedbe175cbfdd5",
     "grade": true,
     "grade_id": "cell-851fa744923a9bba",
     "locked": true,
     "points": 10,
     "schema_version": 1,
     "solution": false
    }
   },
   "outputs": [
    {
     "name": "stdout",
     "output_type": "stream",
     "text": [
      "spam_words = 5028\n",
      "ham_words = 4917\n",
      "[0.387 0.613]\n",
      "data.shape[1] = 55\n",
      "spam_ncw = 146\n",
      "ham_ncw = 106\n",
      "spam_ncw = 120\n",
      "ham_ncw = 60\n",
      "spam_ncw = 231\n",
      "ham_ncw = 169\n",
      "spam_ncw = 6\n",
      "ham_ncw = 1\n",
      "spam_ncw = 253\n",
      "ham_ncw = 139\n",
      "spam_ncw = 159\n",
      "ham_ncw = 63\n",
      "spam_ncw = 157\n",
      "ham_ncw = 12\n",
      "spam_ncw = 139\n",
      "ham_ncw = 40\n",
      "spam_ncw = 115\n",
      "ham_ncw = 53\n",
      "spam_ncw = 183\n",
      "ham_ncw = 101\n",
      "spam_ncw = 115\n",
      "ham_ncw = 37\n",
      "spam_ncw = 242\n",
      "ham_ncw = 263\n",
      "spam_ncw = 124\n",
      "ham_ncw = 80\n",
      "spam_ncw = 48\n",
      "ham_ncw = 27\n",
      "spam_ncw = 54\n",
      "ham_ncw = 11\n",
      "spam_ncw = 220\n",
      "ham_ncw = 60\n",
      "spam_ncw = 169\n",
      "ham_ncw = 64\n",
      "spam_ncw = 135\n",
      "ham_ncw = 80\n",
      "spam_ncw = 346\n",
      "ham_ncw = 343\n",
      "spam_ncw = 87\n",
      "ham_ncw = 12\n",
      "spam_ncw = 314\n",
      "ham_ncw = 209\n",
      "spam_ncw = 18\n",
      "ham_ncw = 5\n",
      "spam_ncw = 126\n",
      "ham_ncw = 16\n",
      "spam_ncw = 155\n",
      "ham_ncw = 12\n",
      "spam_ncw = 11\n",
      "ham_ncw = 231\n",
      "spam_ncw = 8\n",
      "ham_ncw = 171\n",
      "spam_ncw = 1\n",
      "ham_ncw = 163\n",
      "spam_ncw = 5\n",
      "ham_ncw = 95\n",
      "spam_ncw = 4\n",
      "ham_ncw = 80\n",
      "spam_ncw = 3\n",
      "ham_ncw = 90\n",
      "spam_ncw = 1\n",
      "ham_ncw = 61\n",
      "spam_ncw = 0\n",
      "ham_ncw = 47\n",
      "spam_ncw = 12\n",
      "ham_ncw = 67\n",
      "spam_ncw = 0\n",
      "ham_ncw = 48\n",
      "spam_ncw = 15\n",
      "ham_ncw = 94\n",
      "spam_ncw = 27\n",
      "ham_ncw = 102\n",
      "spam_ncw = 23\n",
      "ham_ncw = 175\n",
      "spam_ncw = 6\n",
      "ham_ncw = 11\n",
      "spam_ncw = 16\n",
      "ham_ncw = 69\n",
      "spam_ncw = 52\n",
      "ham_ncw = 60\n",
      "spam_ncw = 0\n",
      "ham_ncw = 27\n",
      "spam_ncw = 2\n",
      "ham_ncw = 75\n",
      "spam_ncw = 24\n",
      "ham_ncw = 64\n",
      "spam_ncw = 4\n",
      "ham_ncw = 61\n",
      "spam_ncw = 106\n",
      "ham_ncw = 180\n",
      "spam_ncw = 12\n",
      "ham_ncw = 104\n",
      "spam_ncw = 5\n",
      "ham_ncw = 11\n",
      "spam_ncw = 3\n",
      "ham_ncw = 36\n",
      "spam_ncw = 63\n",
      "ham_ncw = 112\n",
      "spam_ncw = 245\n",
      "ham_ncw = 339\n",
      "spam_ncw = 35\n",
      "ham_ncw = 89\n",
      "spam_ncw = 330\n",
      "ham_ncw = 177\n",
      "spam_ncw = 244\n",
      "ham_ncw = 63\n",
      "spam_ncw = 106\n",
      "ham_ncw = 52\n",
      "[[-3.83854747 -4.40050244 -3.37557787 -7.81822913 -3.56973388 -4.35249322\n",
      "  -5.94642695 -4.79780424 -4.52239226 -3.88640349 -4.87379015 -2.9354272\n",
      "  -4.11692715 -5.1791718  -6.02646966 -4.40050244 -4.33698904 -4.11692715\n",
      "  -2.67073465 -5.94642695 -3.16426878 -6.71961684 -5.67816296 -5.94642695\n",
      "  -3.06463893 -3.36388183 -3.41150988 -3.94702811 -4.11692715 -4.0005168\n",
      "  -4.38424192 -4.6401753  -4.2918686  -4.61955601 -3.95749941 -3.87664732\n",
      "  -3.34089231 -6.02646966 -4.26288106 -4.40050244 -5.1791718  -4.18064297\n",
      "  -4.33698904 -4.38424192 -3.31287927 -3.85741596 -6.02646966 -4.90045839\n",
      "  -3.78398849 -2.68243069 -4.01156664 -3.32959276 -4.35249322 -4.54108439]\n",
      " [-3.54302758 -3.73766962 -3.08672279 -6.58755001 -2.9961259  -3.45828635\n",
      "  -3.47086513 -3.59181774 -3.77986997 -3.31852441 -3.77986997 -3.04039872\n",
      "  -3.70514643 -4.64163987 -4.52612698 -3.13529746 -3.39766173 -3.62080528\n",
      "  -2.68413538 -4.05612335 -2.78088753 -5.58902118 -3.68927308 -3.48360416\n",
      "  -6.04855351 -6.33623559 -7.84031298 -6.74170069 -6.92402225 -7.1471658\n",
      "  -7.84031298 -8.53346016 -5.96851081 -8.53346016 -5.76087144 -5.20125565\n",
      "  -5.35540633 -6.58755001 -5.70024682 -4.56316825 -8.53346016 -7.43484788\n",
      "  -5.31458434 -6.92402225 -3.86063133 -5.96851081 -6.74170069 -7.1471658\n",
      "  -4.37457708 -3.02812863 -4.94994123 -2.73134179 -3.03220195 -3.86063133]]\n"
     ]
    }
   ],
   "source": [
    "# This is a test cell. Do not delete or change. \n",
    "# You can use this cell to check whether the returned objects of your function are of the right data type.\n",
    "log_class_conditional_likelihoods = estimate_log_class_conditional_likelihoods(training_spam, alpha=1.0)\n",
    "\n",
    "# Check data type(s)\n",
    "assert(isinstance(log_class_conditional_likelihoods, np.ndarray))\n",
    "\n",
    "# Check shape of numpy array\n",
    "assert(log_class_conditional_likelihoods.shape == (2, 54))\n",
    "\n",
    "# Check data type of array elements\n",
    "assert(log_class_conditional_likelihoods.dtype == float)\n"
   ]
  },
  {
   "cell_type": "markdown",
   "metadata": {},
   "source": [
    "## Part  1C: Classify e-mails (10 marks)\n",
    "\n",
    "Having calculated the log class priors and the log class-conditional likelihoods for a given training set, define a function called `predict()`that takes a data set of new messages as input and predicts for each message whether it is spam or not. Note that the input should **not** contain a response variable.\n",
    "\n",
    "Use your `predict()` function to classify the messages of your **training data set** `training_spam`. Compute the accuracy of your algorithm _in the training set_ by comparing your predictions to the true class values. Accuracy is simply defined as the proportion of true predictions made by your classifier. Store the accuracy of your naïve Bayes algorithm in a variable called `training_set_accuracy`."
   ]
  },
  {
   "cell_type": "code",
   "execution_count": 73,
   "metadata": {
    "deletable": false,
    "nbgrader": {
     "checksum": "a0607f6de9b1318ea89ecf982e1bbaa9",
     "grade": false,
     "grade_id": "cell-28f019cd03547bb7",
     "locked": false,
     "schema_version": 1,
     "solution": true
    }
   },
   "outputs": [],
   "source": [
    "def predict(new_data, log_class_priors, log_class_conditional_likelihoods):\n",
    "    \"\"\"\n",
    "    Given a new data set with binary features, predict the corresponding\n",
    "    response for each instance (row) of the new_data set.\n",
    "\n",
    "    :param new_data: a two-dimensional numpy-array with shape = [n_test_samples, n_features].\n",
    "    :param log_class_priors: a numpy array of length 2.\n",
    "    :param log_class_conditional_likelihoods: a numpy array of shape = [2, n_features].\n",
    "        theta[j, i] corresponds to the logarithm of the probability of feature i appearing\n",
    "        in a sample belonging to class j.\n",
    "    :return class_predictions: a numpy array containing the class predictions for each row\n",
    "        of new_data.\n",
    "    \"\"\"\n",
    "    ### YOUR CODE HERE...\n",
    "    \n",
    "    k = log_class_conditional_likelihoods.shape[1]\n",
    "    print(\"k=\",k)\n",
    "    \n",
    "    class_predictions = np.zeros(len(new_data))\n",
    "    \n",
    "\n",
    "    prior_ham = log_class_priors[0]\n",
    "    print(\"prior_ham =\", prior_ham)\n",
    "    prior_spam = log_class_priors[1]\n",
    "    print(\"prior_spam\", prior_spam)\n",
    "        \n",
    "    # for every value in the \"new_data\"...\n",
    "    for i in range(0,len(new_data)):\n",
    "        acc_spam = 0\n",
    "        # for every feature in the table...\n",
    "        for j in range(0,(k)):\n",
    "            # ... do Wi * log(theta(c,i))\n",
    "            if new_data[i,j] == 1:\n",
    "                acc_spam = acc_spam + log_class_conditional_likelihoods[1, j]\n",
    "\n",
    "        prob_spam = prior_spam + acc_spam\n",
    "\n",
    "        acc_ham = 0\n",
    "        for l in range(0,(k)):\n",
    "            if new_data[i,l] == 1:\n",
    "                acc_ham = acc_ham + log_class_conditional_likelihoods[0, l]\n",
    "                \n",
    "                \n",
    "        prob_ham = prior_ham + acc_ham\n",
    "\n",
    "        if prob_ham > prob_spam:\n",
    "            class_predictions[i] = 0\n",
    "        else:\n",
    "            class_predictions[i] = 1\n",
    "    \n",
    "\n",
    "    print(new_data)\n",
    "    print(new_data.shape)\n",
    "    \n",
    "    print(class_predictions)\n",
    "    \n",
    "    return class_predictions\n",
    "\n",
    "def accuracy(y_predictions, y_true):\n",
    "    \"\"\"\n",
    "    Calculate the accuracy.\n",
    "    \n",
    "    :param y_predictions: a one-dimensional numpy array of predicted classes (0s and 1s).\n",
    "    :param y_true: a one-dimensional numpy array of true classes (0s and 1s).\n",
    "    \n",
    "    :return acc: a float between 0 and 1 \n",
    "    \"\"\"\n",
    "    ### YOUR CODE HERE...\n",
    "    \n",
    "    acc = 0\n",
    "    for i in range(1, len(y_predictions)):\n",
    "        if y_predictions[i] == y_true[i]: acc += 1\n",
    "    \n",
    "    acc = acc/len(y_predictions)\n",
    "    print(acc * 100)\n",
    "    \n",
    "    return acc\n",
    "    \n",
    "# training_set_accuracy = ..."
   ]
  },
  {
   "cell_type": "code",
   "execution_count": 74,
   "metadata": {
    "deletable": false,
    "editable": false,
    "nbgrader": {
     "checksum": "e2352476945f08f15e42cb0e94c070ad",
     "grade": true,
     "grade_id": "cell-4c8adaa150209180",
     "locked": true,
     "points": 10,
     "schema_version": 1,
     "solution": false
    }
   },
   "outputs": [
    {
     "name": "stdout",
     "output_type": "stream",
     "text": [
      "k= 54\n",
      "prior_ham = -0.9493305859523552\n",
      "prior_spam -0.48939034304592566\n",
      "[[0. 0. 0. ... 0. 0. 0.]\n",
      " [0. 1. 0. ... 1. 0. 0.]\n",
      " [0. 0. 0. ... 1. 0. 0.]\n",
      " ...\n",
      " [0. 0. 0. ... 0. 0. 1.]\n",
      " [1. 1. 1. ... 1. 1. 0.]\n",
      " [0. 0. 1. ... 1. 1. 1.]]\n",
      "(1000, 54)\n",
      "[1. 1. 0. 0. 0. 1. 0. 0. 0. 1. 0. 1. 0. 1. 1. 1. 1. 0. 0. 1. 1. 1. 0. 1.\n",
      " 1. 0. 0. 1. 0. 0. 0. 0. 0. 1. 1. 1. 0. 0. 1. 0. 1. 1. 1. 1. 1. 1. 1. 1.\n",
      " 0. 1. 1. 1. 1. 0. 1. 1. 1. 0. 1. 1. 0. 1. 1. 0. 0. 1. 1. 1. 0. 0. 0. 0.\n",
      " 0. 1. 1. 1. 1. 1. 1. 0. 0. 0. 0. 1. 0. 0. 0. 1. 1. 1. 0. 0. 1. 1. 0. 0.\n",
      " 1. 0. 0. 0. 0. 0. 0. 1. 0. 1. 0. 1. 1. 1. 1. 1. 1. 0. 1. 0. 1. 0. 0. 1.\n",
      " 1. 0. 0. 0. 0. 1. 1. 1. 0. 0. 1. 1. 0. 1. 0. 1. 0. 0. 1. 1. 1. 0. 0. 1.\n",
      " 1. 1. 0. 0. 0. 0. 1. 0. 1. 1. 1. 0. 1. 0. 1. 0. 1. 0. 1. 1. 1. 1. 1. 0.\n",
      " 1. 1. 1. 1. 1. 0. 1. 0. 1. 1. 0. 1. 1. 0. 0. 0. 0. 1. 1. 1. 1. 0. 1. 1.\n",
      " 0. 1. 0. 1. 1. 1. 1. 1. 0. 1. 1. 1. 1. 1. 1. 0. 1. 0. 0. 1. 0. 1. 1. 1.\n",
      " 1. 1. 0. 0. 1. 1. 1. 1. 1. 1. 0. 0. 1. 0. 0. 0. 0. 1. 0. 1. 1. 0. 1. 0.\n",
      " 1. 1. 0. 0. 1. 0. 0. 0. 0. 1. 1. 1. 0. 1. 0. 1. 0. 0. 0. 1. 1. 0. 1. 0.\n",
      " 1. 0. 0. 1. 0. 0. 1. 1. 0. 1. 0. 0. 0. 0. 1. 0. 1. 1. 0. 0. 0. 1. 1. 0.\n",
      " 1. 1. 0. 1. 0. 1. 0. 0. 1. 1. 0. 1. 1. 1. 0. 1. 1. 1. 0. 0. 1. 0. 0. 0.\n",
      " 1. 1. 1. 1. 0. 0. 0. 0. 0. 1. 0. 1. 1. 0. 0. 1. 1. 0. 0. 1. 0. 1. 0. 1.\n",
      " 0. 1. 0. 0. 1. 1. 1. 0. 1. 1. 1. 0. 0. 0. 0. 0. 0. 1. 1. 0. 0. 1. 0. 1.\n",
      " 0. 1. 1. 1. 1. 1. 1. 0. 1. 0. 0. 1. 0. 0. 1. 1. 1. 0. 1. 0. 1. 0. 1. 0.\n",
      " 0. 0. 1. 1. 1. 1. 1. 0. 1. 1. 0. 1. 1. 1. 1. 1. 1. 1. 0. 1. 0. 1. 0. 0.\n",
      " 1. 1. 0. 1. 1. 1. 1. 0. 0. 0. 1. 1. 0. 1. 0. 1. 0. 1. 1. 0. 0. 1. 0. 1.\n",
      " 0. 1. 1. 0. 1. 1. 0. 0. 0. 0. 1. 0. 0. 0. 1. 1. 0. 1. 1. 0. 1. 1. 1. 0.\n",
      " 0. 1. 1. 1. 0. 0. 1. 0. 0. 1. 1. 1. 1. 0. 1. 1. 0. 0. 1. 0. 1. 0. 1. 0.\n",
      " 0. 1. 0. 0. 1. 0. 0. 0. 1. 1. 0. 1. 1. 1. 1. 1. 1. 1. 1. 0. 0. 1. 1. 1.\n",
      " 0. 1. 1. 0. 0. 0. 1. 0. 0. 0. 0. 0. 0. 0. 0. 1. 1. 1. 0. 1. 0. 0. 1. 1.\n",
      " 1. 0. 0. 1. 1. 0. 0. 1. 1. 0. 1. 0. 0. 0. 0. 0. 0. 0. 1. 0. 1. 1. 0. 0.\n",
      " 1. 1. 0. 0. 1. 0. 1. 0. 0. 0. 0. 1. 1. 1. 0. 1. 1. 1. 1. 0. 0. 0. 0. 0.\n",
      " 1. 0. 1. 0. 0. 0. 1. 0. 0. 1. 1. 1. 0. 1. 1. 1. 0. 0. 1. 1. 1. 1. 1. 0.\n",
      " 1. 1. 0. 0. 0. 1. 0. 1. 1. 1. 1. 1. 0. 1. 1. 1. 1. 0. 0. 1. 1. 0. 1. 0.\n",
      " 0. 0. 1. 0. 0. 0. 1. 1. 1. 0. 0. 1. 0. 1. 0. 1. 0. 0. 0. 1. 0. 1. 0. 0.\n",
      " 0. 1. 1. 0. 0. 1. 1. 1. 0. 0. 1. 0. 1. 0. 1. 1. 0. 1. 0. 1. 1. 0. 1. 1.\n",
      " 0. 1. 1. 1. 1. 1. 0. 1. 1. 0. 0. 1. 1. 1. 1. 1. 0. 0. 0. 1. 0. 1. 1. 1.\n",
      " 1. 1. 1. 1. 1. 0. 1. 0. 0. 0. 1. 0. 1. 0. 1. 1. 1. 0. 1. 1. 1. 1. 1. 1.\n",
      " 0. 0. 0. 0. 1. 0. 1. 0. 1. 0. 1. 0. 0. 1. 0. 1. 0. 1. 0. 1. 1. 0. 0. 1.\n",
      " 1. 1. 1. 1. 0. 0. 1. 0. 1. 1. 1. 1. 0. 1. 0. 1. 0. 1. 0. 0. 1. 1. 0. 1.\n",
      " 0. 0. 1. 0. 1. 1. 0. 1. 1. 0. 0. 0. 1. 1. 0. 0. 0. 1. 0. 0. 0. 1. 1. 0.\n",
      " 1. 1. 0. 1. 0. 1. 0. 0. 1. 0. 0. 0. 0. 1. 1. 1. 0. 0. 0. 0. 0. 1. 1. 0.\n",
      " 0. 0. 0. 0. 1. 0. 1. 0. 0. 0. 1. 1. 0. 1. 0. 0. 0. 1. 1. 1. 0. 0. 0. 0.\n",
      " 1. 1. 0. 1. 1. 0. 0. 0. 1. 1. 0. 1. 0. 1. 0. 1. 1. 0. 1. 0. 0. 0. 1. 1.\n",
      " 0. 1. 0. 1. 1. 1. 0. 0. 1. 0. 1. 0. 1. 1. 0. 1. 1. 0. 0. 0. 1. 0. 0. 1.\n",
      " 1. 1. 0. 1. 0. 0. 0. 0. 0. 1. 0. 0. 1. 0. 0. 0. 1. 0. 1. 1. 1. 1. 0. 0.\n",
      " 1. 1. 0. 0. 0. 1. 0. 0. 1. 0. 1. 1. 0. 1. 1. 0. 0. 1. 1. 0. 0. 0. 1. 1.\n",
      " 0. 1. 1. 0. 0. 0. 0. 1. 1. 1. 0. 0. 1. 1. 1. 0. 1. 1. 0. 0. 0. 0. 0. 1.\n",
      " 0. 1. 1. 0. 0. 0. 0. 1. 1. 0. 0. 1. 1. 0. 0. 0. 1. 0. 1. 0. 0. 1. 0. 0.\n",
      " 1. 0. 1. 1. 0. 1. 0. 0. 1. 0. 0. 1. 0. 1. 1. 1.]\n",
      "83.7\n"
     ]
    }
   ],
   "source": [
    "# This is a test cell. Do not delete or change. \n",
    "# You can use this cell to check whether the returned objects of your function are of the right data type.\n",
    "class_predictions = predict(training_spam[:, 1:], log_class_priors, log_class_conditional_likelihoods)\n",
    "\n",
    "# Check data type(s)\n",
    "assert(isinstance(class_predictions, np.ndarray))\n",
    "\n",
    "# Check shape of numpy array\n",
    "assert(class_predictions.shape == (1000,))\n",
    "\n",
    "# Check data type of array elements\n",
    "assert(np.all(np.logical_or(class_predictions == 0, class_predictions == 1)))\n",
    "       \n",
    "# Check accuracy function\n",
    "true_classes = training_spam[:, 0]\n",
    "training_set_accuracy = accuracy(class_predictions, true_classes)\n",
    "assert(isinstance(training_set_accuracy, float))\n",
    "assert(0 <= training_set_accuracy <= 1)\n"
   ]
  },
  {
   "cell_type": "markdown",
   "metadata": {},
   "source": [
    "## Part 1D: Classifying previously unseen data (10 marks).\n",
    "The following cell loads a new set of 500 messages."
   ]
  },
  {
   "cell_type": "code",
   "execution_count": 76,
   "metadata": {},
   "outputs": [
    {
     "name": "stdout",
     "output_type": "stream",
     "text": [
      "Shape of the testing spam data set: (500, 55)\n"
     ]
    },
    {
     "data": {
      "text/plain": [
       "array([[1., 0., 0., ..., 1., 1., 1.],\n",
       "       [1., 1., 0., ..., 1., 1., 1.],\n",
       "       [0., 0., 0., ..., 0., 0., 0.],\n",
       "       ...,\n",
       "       [0., 0., 0., ..., 0., 0., 0.],\n",
       "       [0., 0., 0., ..., 1., 0., 0.],\n",
       "       [0., 0., 0., ..., 1., 0., 0.]])"
      ]
     },
     "execution_count": 76,
     "metadata": {},
     "output_type": "execute_result"
    }
   ],
   "source": [
    "testing_spam = np.loadtxt(open(\"data/testing_spam.csv\"), delimiter=\",\")\n",
    "print(\"Shape of the testing spam data set:\", testing_spam.shape)\n",
    "testing_spam"
   ]
  },
  {
   "cell_type": "markdown",
   "metadata": {},
   "source": [
    "Use the naïve Bayes algorithm that you trained on `training_spam` in order to classify all messages in the `testing_spam` data set. Store the resulting accuracy in a variable called `testing_set_accuracy`."
   ]
  },
  {
   "cell_type": "code",
   "execution_count": 72,
   "metadata": {
    "deletable": false,
    "nbgrader": {
     "checksum": "20ca424a81250cfca53ffa68c90a303d",
     "grade": false,
     "grade_id": "cell-fc141a44a0e708b1",
     "locked": false,
     "schema_version": 1,
     "solution": true
    }
   },
   "outputs": [
    {
     "name": "stdout",
     "output_type": "stream",
     "text": [
      "k= 54\n",
      "prior_ham = -0.9493305859523552\n",
      "prior_spam -0.48939034304592566\n",
      "[[1. 0. 0. ... 1. 1. 1.]\n",
      " [1. 1. 0. ... 1. 1. 1.]\n",
      " [0. 0. 0. ... 0. 0. 0.]\n",
      " ...\n",
      " [0. 0. 0. ... 0. 0. 0.]\n",
      " [0. 0. 0. ... 1. 0. 0.]\n",
      " [0. 0. 0. ... 1. 0. 0.]]\n",
      "(500, 55)\n",
      "[1. 1. 0. 0. 0. 0. 0. 1. 0. 0. 0. 0. 0. 1. 1. 0. 1. 0. 1. 0. 0. 0. 0. 1.\n",
      " 1. 0. 0. 0. 1. 0. 1. 0. 0. 0. 1. 1. 1. 0. 0. 0. 0. 0. 0. 1. 1. 1. 1. 1.\n",
      " 0. 0. 0. 0. 1. 0. 0. 1. 0. 1. 0. 0. 1. 1. 0. 0. 1. 0. 0. 1. 0. 0. 1. 0.\n",
      " 0. 1. 0. 0. 1. 0. 0. 0. 0. 0. 0. 1. 0. 0. 1. 1. 1. 0. 0. 0. 0. 0. 0. 0.\n",
      " 0. 0. 0. 0. 1. 0. 0. 0. 0. 0. 0. 0. 0. 0. 0. 0. 0. 0. 0. 0. 0. 1. 0. 0.\n",
      " 0. 0. 0. 1. 0. 0. 1. 0. 0. 1. 0. 0. 0. 0. 0. 1. 1. 0. 1. 0. 0. 1. 0. 0.\n",
      " 0. 1. 0. 0. 0. 0. 1. 1. 1. 0. 0. 1. 0. 0. 0. 0. 1. 0. 0. 1. 1. 0. 1. 1.\n",
      " 0. 1. 0. 0. 0. 1. 0. 0. 0. 0. 0. 1. 0. 1. 1. 0. 0. 1. 1. 0. 0. 0. 0. 1.\n",
      " 0. 0. 0. 0. 0. 0. 0. 0. 0. 0. 0. 1. 1. 0. 0. 0. 1. 1. 1. 0. 0. 0. 0. 0.\n",
      " 0. 0. 0. 0. 0. 0. 0. 1. 0. 0. 0. 0. 1. 0. 0. 1. 1. 0. 1. 0. 0. 0. 0. 0.\n",
      " 0. 0. 0. 0. 0. 1. 0. 1. 0. 1. 1. 0. 0. 1. 0. 0. 0. 1. 0. 0. 1. 0. 0. 1.\n",
      " 0. 1. 0. 1. 0. 0. 1. 1. 0. 1. 0. 0. 1. 1. 1. 0. 0. 1. 0. 1. 1. 0. 1. 0.\n",
      " 0. 0. 0. 0. 1. 1. 1. 1. 0. 0. 1. 0. 0. 0. 0. 1. 1. 0. 1. 1. 0. 0. 0. 1.\n",
      " 0. 1. 0. 0. 1. 0. 0. 0. 0. 0. 0. 0. 0. 1. 0. 0. 0. 0. 0. 1. 0. 0. 1. 0.\n",
      " 1. 0. 0. 0. 0. 1. 0. 0. 1. 1. 0. 0. 0. 0. 1. 0. 0. 0. 0. 0. 1. 0. 0. 0.\n",
      " 0. 0. 0. 0. 0. 1. 1. 0. 0. 0. 0. 0. 0. 0. 0. 0. 0. 1. 0. 0. 1. 1. 0. 0.\n",
      " 0. 1. 1. 1. 1. 0. 1. 1. 1. 1. 0. 1. 1. 1. 1. 1. 0. 0. 0. 0. 0. 0. 1. 0.\n",
      " 1. 0. 0. 0. 1. 1. 0. 1. 0. 1. 0. 1. 0. 0. 1. 1. 0. 1. 0. 0. 0. 0. 0. 1.\n",
      " 0. 0. 1. 0. 0. 1. 1. 0. 0. 0. 0. 0. 0. 1. 0. 0. 0. 1. 1. 1. 0. 0. 1. 1.\n",
      " 0. 1. 1. 1. 0. 0. 0. 0. 0. 0. 0. 0. 0. 0. 1. 0. 0. 1. 0. 0. 0. 0. 0. 0.\n",
      " 1. 0. 1. 0. 0. 0. 1. 1. 1. 0. 1. 0. 1. 1. 0. 0. 0. 0. 0. 0.]\n",
      "71.2\n",
      "0.712\n"
     ]
    }
   ],
   "source": [
    "class_predictions = predict(testing_spam, log_class_priors, log_class_conditional_likelihoods)\n",
    "true_classes = testing_spam[:, 0]\n",
    "testing_set_accuracy = accuracy(class_predictions, true_classes)\n",
    "print(testing_set_accuracy)"
   ]
  },
  {
   "cell_type": "code",
   "execution_count": 10,
   "metadata": {
    "deletable": false,
    "editable": false,
    "nbgrader": {
     "checksum": "d89ad23b0827be47fd700442b2b7495c",
     "grade": true,
     "grade_id": "cell-e8b67052cb121115",
     "locked": true,
     "points": 10,
     "schema_version": 1,
     "solution": false
    }
   },
   "outputs": [],
   "source": [
    "# This is a test cell. Do not delete or change."
   ]
  },
  {
   "cell_type": "markdown",
   "metadata": {},
   "source": [
    "## Part 1E: Discussion (5 marks).\n"
   ]
  },
  {
   "cell_type": "markdown",
   "metadata": {
    "deletable": false,
    "nbgrader": {
     "checksum": "76ad4c938cfef7436ef6bc16eb732a8b",
     "grade": true,
     "grade_id": "cell-3e35b05a08d8d3af",
     "locked": false,
     "points": 5,
     "schema_version": 1,
     "solution": true
    }
   },
   "source": [
    "In 3 sentences or less: Compare the accuracy of your classifier on the training set and on the test set. Are they different? If yes, how do you explain the difference?\n",
    "\n",
    "YOUR ANSWER HERE\n",
    "\n"
   ]
  },
  {
   "cell_type": "markdown",
   "metadata": {
    "collapsed": true
   },
   "source": [
    "# Part 2: Zero or One? (55 marks)\n",
    "\n",
    "In this part of the coursework, you will develop a classifier for a different problem. All you will be given about this problem is a training data set. Your objective is to develop a classifier that will have the highest accuracy in unseen examples.\n",
    "\n",
    "The following cell loads the training data set."
   ]
  },
  {
   "cell_type": "code",
   "execution_count": 11,
   "metadata": {},
   "outputs": [
    {
     "name": "stdout",
     "output_type": "stream",
     "text": [
      "Shape of the training data set: (5000, 39)\n",
      "[[0. 1. 1. ... 0. 0. 0.]\n",
      " [1. 0. 1. ... 0. 1. 0.]\n",
      " [1. 1. 1. ... 1. 0. 0.]\n",
      " ...\n",
      " [0. 0. 1. ... 0. 1. 0.]\n",
      " [1. 0. 1. ... 0. 1. 0.]\n",
      " [1. 1. 0. ... 0. 0. 0.]]\n"
     ]
    }
   ],
   "source": [
    "import numpy as np\n",
    "\n",
    "training_data = np.loadtxt(open(\"data/training_data_part_2.csv\"), delimiter=\",\")\n",
    "print(\"Shape of the training data set:\", training_data.shape)\n",
    "print(training_data)"
   ]
  },
  {
   "cell_type": "markdown",
   "metadata": {},
   "source": [
    "The first column is again the response variable. The remaining 38 columns are binary features. You have multiple tasks:\n",
    "\n",
    "(1) Your first task is to write a function called `train()` that takes `training_data` as input and returns all the fitted parameters of your model. Note that the fitted parameters of your model depend on the model you choose. For example, if you use a naïve Bayes classifier, you could return a list of class priors and conditional likelihoods. (This function will allow us to compute your model on the fly. We should be able to execute it in less than 10 minutes.) \n",
    "\n",
    "(2) Your second task is to provide a variable called `fitted_model` which stores the model parameters you found by executing your train() function on the training_data. If your train function takes more than 20 seconds to run, this variable should load precomputed parameter values (possibly from a file) rather than execute the train() function. "
   ]
  },
  {
   "cell_type": "code",
   "execution_count": 12,
   "metadata": {
    "deletable": false,
    "nbgrader": {
     "checksum": "23c3e0da679c069e5777b574de97a69f",
     "grade": false,
     "grade_id": "cell-9284ab8e9721ffc2",
     "locked": false,
     "schema_version": 1,
     "solution": true
    }
   },
   "outputs": [],
   "source": [
    "def train(training_data):\n",
    "    \"\"\"\n",
    "    Train a model on the training_data\n",
    "\n",
    "    :param training_data: a two-dimensional numpy-array with shape = [200, 12] \n",
    "    \n",
    "    :return fitted_model: any data structure that captures your model\n",
    "    \"\"\"\n",
    "    ### YOUR CODE HERE...\n",
    "    \n",
    "    return fitted_model\n",
    "\n",
    "## Uncomment one of the following two lines depending on whether you want us to compute your model on the \n",
    "## fly or load a supplementary file.\n",
    "\n",
    "# fitted_model = train(training_data)\n",
    "# fitted_model = load(local_file)"
   ]
  },
  {
   "cell_type": "markdown",
   "metadata": {},
   "source": [
    "(3) Your third task is to provide a function called `test()` that uses your `fitted_model` to classify the observations of `testing_data`. The `testing_data` is hidden and may contain any number of observations (rows). It contains 38 columns that have the same structure as the features of `training_data`. "
   ]
  },
  {
   "cell_type": "code",
   "execution_count": 13,
   "metadata": {
    "deletable": false,
    "nbgrader": {
     "checksum": "b3fc3fe71460b40e1a17abe273a2b011",
     "grade": false,
     "grade_id": "cell-b62974b058e95e23",
     "locked": false,
     "schema_version": 1,
     "solution": true
    }
   },
   "outputs": [],
   "source": [
    "def test(testing_data, fitted_model):\n",
    "    \"\"\"\n",
    "    Classify the rows of testing_data using a fitted_model. \n",
    "\n",
    "    :param testing_data: a two-dimensional numpy-array with shape = [n_test_samples, 11]\n",
    "    :param fitted_model: the output of your train function.\n",
    "\n",
    "    :return class_predictions: a numpy array containing the class predictions for each row\n",
    "        of testing_data.\n",
    "    \"\"\"\n",
    "    ### YOUR CODE HERE...\n",
    "    \n",
    "    return class_predictions"
   ]
  },
  {
   "cell_type": "code",
   "execution_count": 14,
   "metadata": {
    "deletable": false,
    "editable": false,
    "nbgrader": {
     "checksum": "8e632be3b415f26b688aaf8da8354865",
     "grade": true,
     "grade_id": "cell-d6503e588628ad10",
     "locked": true,
     "points": 0,
     "schema_version": 1,
     "solution": false
    }
   },
   "outputs": [
    {
     "ename": "NameError",
     "evalue": "name 'fitted_model' is not defined",
     "output_type": "error",
     "traceback": [
      "\u001b[1;31m---------------------------------------------------------------------------\u001b[0m",
      "\u001b[1;31mNameError\u001b[0m                                 Traceback (most recent call last)",
      "\u001b[1;32m<ipython-input-14-f9558ab019f5>\u001b[0m in \u001b[0;36m<module>\u001b[1;34m()\u001b[0m\n\u001b[0;32m      3\u001b[0m \u001b[1;33m\u001b[0m\u001b[0m\n\u001b[0;32m      4\u001b[0m \u001b[1;31m# Test data types if input are the first 20 rows of the training_data.\u001b[0m\u001b[1;33m\u001b[0m\u001b[1;33m\u001b[0m\u001b[0m\n\u001b[1;32m----> 5\u001b[1;33m \u001b[0mclass_predictions\u001b[0m \u001b[1;33m=\u001b[0m \u001b[0mtest\u001b[0m\u001b[1;33m(\u001b[0m\u001b[0mtraining_data\u001b[0m\u001b[1;33m[\u001b[0m\u001b[1;33m:\u001b[0m\u001b[1;36m20\u001b[0m\u001b[1;33m,\u001b[0m \u001b[1;36m1\u001b[0m\u001b[1;33m:\u001b[0m\u001b[1;33m]\u001b[0m\u001b[1;33m,\u001b[0m \u001b[0mfitted_model\u001b[0m\u001b[1;33m)\u001b[0m\u001b[1;33m\u001b[0m\u001b[0m\n\u001b[0m\u001b[0;32m      6\u001b[0m \u001b[1;33m\u001b[0m\u001b[0m\n\u001b[0;32m      7\u001b[0m \u001b[1;31m# Check data type(s)\u001b[0m\u001b[1;33m\u001b[0m\u001b[1;33m\u001b[0m\u001b[0m\n",
      "\u001b[1;31mNameError\u001b[0m: name 'fitted_model' is not defined"
     ]
    }
   ],
   "source": [
    "# This is a test cell. Do not delete or change. \n",
    "# You can use this cell to check whether the returned objects of your function are of the right data type.\n",
    "\n",
    "# Test data types if input are the first 20 rows of the training_data.\n",
    "class_predictions = test(training_data[:20, 1:], fitted_model)\n",
    "\n",
    "# Check data type(s)\n",
    "assert(isinstance(class_predictions, np.ndarray))\n",
    "\n",
    "# Check shape of numpy array\n",
    "assert(class_predictions.shape == (20,))\n",
    "\n",
    "# Check data type of array elements\n",
    "assert(np.all(np.logical_or(class_predictions == 0, class_predictions == 1)))\n"
   ]
  },
  {
   "cell_type": "markdown",
   "metadata": {
    "deletable": false,
    "nbgrader": {
     "checksum": "4c72e9d23d320745c0b4971d557c7ab3",
     "grade": true,
     "grade_id": "cell-1d336f7ffecd8f71",
     "locked": false,
     "points": 55,
     "schema_version": 1,
     "solution": true
    }
   },
   "source": [
    "Describe in less than 10 sentences: Explain your classifier. Comment on its performance. What other alternative classifiers did you consider or experiment with? How does the performance of your classifier change as the size of the training set increases? You may want to include figures. \n",
    "\n",
    "YOUR ANSWER HERE\n",
    "\n"
   ]
  },
  {
   "cell_type": "code",
   "execution_count": null,
   "metadata": {},
   "outputs": [],
   "source": []
  },
  {
   "cell_type": "code",
   "execution_count": null,
   "metadata": {},
   "outputs": [],
   "source": []
  }
 ],
 "metadata": {
  "kernelspec": {
   "display_name": "Python 3",
   "language": "python",
   "name": "python3"
  },
  "language_info": {
   "codemirror_mode": {
    "name": "ipython",
    "version": 3
   },
   "file_extension": ".py",
   "mimetype": "text/x-python",
   "name": "python",
   "nbconvert_exporter": "python",
   "pygments_lexer": "ipython3",
   "version": "3.6.4"
  }
 },
 "nbformat": 4,
 "nbformat_minor": 2
}
